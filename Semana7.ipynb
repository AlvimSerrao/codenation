{
 "cells": [
  {
   "cell_type": "markdown",
   "metadata": {},
   "source": [
    "# Desafio 6\n",
    "\n",
    "Neste desafio, vamos praticar _feature engineering_, um dos processos mais importantes e trabalhosos de ML. Utilizaremos o _data set_ [Countries of the world](https://www.kaggle.com/fernandol/countries-of-the-world), que contém dados sobre os 227 países do mundo com informações sobre tamanho da população, área, imigração e setores de produção.\n",
    "\n",
    "> Obs.: Por favor, não modifique o nome das funções de resposta."
   ]
  },
  {
   "cell_type": "markdown",
   "metadata": {},
   "source": [
    "## _Setup_ geral"
   ]
  },
  {
   "cell_type": "code",
   "execution_count": 1,
   "metadata": {},
   "outputs": [],
   "source": [
    "import pandas as pd\n",
    "import numpy as np\n",
    "import seaborn as sns\n",
    "\n",
    "import sklearn as sk\n",
    "from sklearn.preprocessing import KBinsDiscretizer\n",
    "from sklearn.pipeline import Pipeline\n",
    "from sklearn.impute import SimpleImputer\n",
    "from sklearn.preprocessing import StandardScaler\n",
    "from sklearn.feature_extraction.text import (CountVectorizer , TfidfVectorizer)\n",
    "from sklearn.datasets import fetch_20newsgroups"
   ]
  },
  {
   "cell_type": "code",
   "execution_count": 2,
   "metadata": {},
   "outputs": [],
   "source": [
    "# Algumas configurações para o matplotlib.\n",
    "# %matplotlib inline\n",
    "\n",
    "# from IPython.core.pylabtools import figsize\n",
    "\n",
    "\n",
    "# figsize(12, 8)\n",
    "\n",
    "# sns.set()"
   ]
  },
  {
   "cell_type": "code",
   "execution_count": 3,
   "metadata": {
    "scrolled": false
   },
   "outputs": [],
   "source": [
    "countries = pd.read_csv(\"countries.csv\")"
   ]
  },
  {
   "cell_type": "code",
   "execution_count": 4,
   "metadata": {},
   "outputs": [
    {
     "data": {
      "text/html": [
       "<div>\n",
       "<style scoped>\n",
       "    .dataframe tbody tr th:only-of-type {\n",
       "        vertical-align: middle;\n",
       "    }\n",
       "\n",
       "    .dataframe tbody tr th {\n",
       "        vertical-align: top;\n",
       "    }\n",
       "\n",
       "    .dataframe thead th {\n",
       "        text-align: right;\n",
       "    }\n",
       "</style>\n",
       "<table border=\"1\" class=\"dataframe\">\n",
       "  <thead>\n",
       "    <tr style=\"text-align: right;\">\n",
       "      <th></th>\n",
       "      <th>Country</th>\n",
       "      <th>Region</th>\n",
       "      <th>Population</th>\n",
       "      <th>Area</th>\n",
       "      <th>Pop_density</th>\n",
       "      <th>Coastline_ratio</th>\n",
       "      <th>Net_migration</th>\n",
       "      <th>Infant_mortality</th>\n",
       "      <th>GDP</th>\n",
       "      <th>Literacy</th>\n",
       "      <th>Phones_per_1000</th>\n",
       "      <th>Arable</th>\n",
       "      <th>Crops</th>\n",
       "      <th>Other</th>\n",
       "      <th>Climate</th>\n",
       "      <th>Birthrate</th>\n",
       "      <th>Deathrate</th>\n",
       "      <th>Agriculture</th>\n",
       "      <th>Industry</th>\n",
       "      <th>Service</th>\n",
       "    </tr>\n",
       "  </thead>\n",
       "  <tbody>\n",
       "    <tr>\n",
       "      <th>0</th>\n",
       "      <td>Afghanistan</td>\n",
       "      <td>ASIA (EX. NEAR EAST)</td>\n",
       "      <td>31056997</td>\n",
       "      <td>647500</td>\n",
       "      <td>48,0</td>\n",
       "      <td>0,00</td>\n",
       "      <td>23,06</td>\n",
       "      <td>163,07</td>\n",
       "      <td>700.0</td>\n",
       "      <td>36,0</td>\n",
       "      <td>3,2</td>\n",
       "      <td>12,13</td>\n",
       "      <td>0,22</td>\n",
       "      <td>87,65</td>\n",
       "      <td>1</td>\n",
       "      <td>46,6</td>\n",
       "      <td>20,34</td>\n",
       "      <td>0,38</td>\n",
       "      <td>0,24</td>\n",
       "      <td>0,38</td>\n",
       "    </tr>\n",
       "    <tr>\n",
       "      <th>1</th>\n",
       "      <td>Albania</td>\n",
       "      <td>EASTERN EUROPE</td>\n",
       "      <td>3581655</td>\n",
       "      <td>28748</td>\n",
       "      <td>124,6</td>\n",
       "      <td>1,26</td>\n",
       "      <td>-4,93</td>\n",
       "      <td>21,52</td>\n",
       "      <td>4500.0</td>\n",
       "      <td>86,5</td>\n",
       "      <td>71,2</td>\n",
       "      <td>21,09</td>\n",
       "      <td>4,42</td>\n",
       "      <td>74,49</td>\n",
       "      <td>3</td>\n",
       "      <td>15,11</td>\n",
       "      <td>5,22</td>\n",
       "      <td>0,232</td>\n",
       "      <td>0,188</td>\n",
       "      <td>0,579</td>\n",
       "    </tr>\n",
       "    <tr>\n",
       "      <th>2</th>\n",
       "      <td>Algeria</td>\n",
       "      <td>NORTHERN AFRICA</td>\n",
       "      <td>32930091</td>\n",
       "      <td>2381740</td>\n",
       "      <td>13,8</td>\n",
       "      <td>0,04</td>\n",
       "      <td>-0,39</td>\n",
       "      <td>31</td>\n",
       "      <td>6000.0</td>\n",
       "      <td>70,0</td>\n",
       "      <td>78,1</td>\n",
       "      <td>3,22</td>\n",
       "      <td>0,25</td>\n",
       "      <td>96,53</td>\n",
       "      <td>1</td>\n",
       "      <td>17,14</td>\n",
       "      <td>4,61</td>\n",
       "      <td>0,101</td>\n",
       "      <td>0,6</td>\n",
       "      <td>0,298</td>\n",
       "    </tr>\n",
       "    <tr>\n",
       "      <th>3</th>\n",
       "      <td>American Samoa</td>\n",
       "      <td>OCEANIA</td>\n",
       "      <td>57794</td>\n",
       "      <td>199</td>\n",
       "      <td>290,4</td>\n",
       "      <td>58,29</td>\n",
       "      <td>-20,71</td>\n",
       "      <td>9,27</td>\n",
       "      <td>8000.0</td>\n",
       "      <td>97,0</td>\n",
       "      <td>259,5</td>\n",
       "      <td>10</td>\n",
       "      <td>15</td>\n",
       "      <td>75</td>\n",
       "      <td>2</td>\n",
       "      <td>22,46</td>\n",
       "      <td>3,27</td>\n",
       "      <td>NaN</td>\n",
       "      <td>NaN</td>\n",
       "      <td>NaN</td>\n",
       "    </tr>\n",
       "    <tr>\n",
       "      <th>4</th>\n",
       "      <td>Andorra</td>\n",
       "      <td>WESTERN EUROPE</td>\n",
       "      <td>71201</td>\n",
       "      <td>468</td>\n",
       "      <td>152,1</td>\n",
       "      <td>0,00</td>\n",
       "      <td>6,6</td>\n",
       "      <td>4,05</td>\n",
       "      <td>19000.0</td>\n",
       "      <td>100,0</td>\n",
       "      <td>497,2</td>\n",
       "      <td>2,22</td>\n",
       "      <td>0</td>\n",
       "      <td>97,78</td>\n",
       "      <td>3</td>\n",
       "      <td>8,71</td>\n",
       "      <td>6,25</td>\n",
       "      <td>NaN</td>\n",
       "      <td>NaN</td>\n",
       "      <td>NaN</td>\n",
       "    </tr>\n",
       "  </tbody>\n",
       "</table>\n",
       "</div>"
      ],
      "text/plain": [
       "           Country                               Region  Population     Area  \\\n",
       "0     Afghanistan         ASIA (EX. NEAR EAST)             31056997   647500   \n",
       "1         Albania   EASTERN EUROPE                          3581655    28748   \n",
       "2         Algeria   NORTHERN AFRICA                        32930091  2381740   \n",
       "3  American Samoa   OCEANIA                                   57794      199   \n",
       "4         Andorra   WESTERN EUROPE                            71201      468   \n",
       "\n",
       "  Pop_density Coastline_ratio Net_migration Infant_mortality      GDP  \\\n",
       "0        48,0            0,00         23,06           163,07    700.0   \n",
       "1       124,6            1,26         -4,93            21,52   4500.0   \n",
       "2        13,8            0,04         -0,39               31   6000.0   \n",
       "3       290,4           58,29        -20,71             9,27   8000.0   \n",
       "4       152,1            0,00           6,6             4,05  19000.0   \n",
       "\n",
       "  Literacy Phones_per_1000 Arable Crops  Other Climate Birthrate Deathrate  \\\n",
       "0     36,0             3,2  12,13  0,22  87,65       1      46,6     20,34   \n",
       "1     86,5            71,2  21,09  4,42  74,49       3     15,11      5,22   \n",
       "2     70,0            78,1   3,22  0,25  96,53       1     17,14      4,61   \n",
       "3     97,0           259,5     10    15     75       2     22,46      3,27   \n",
       "4    100,0           497,2   2,22     0  97,78       3      8,71      6,25   \n",
       "\n",
       "  Agriculture Industry Service  \n",
       "0        0,38     0,24    0,38  \n",
       "1       0,232    0,188   0,579  \n",
       "2       0,101      0,6   0,298  \n",
       "3         NaN      NaN     NaN  \n",
       "4         NaN      NaN     NaN  "
      ]
     },
     "execution_count": 4,
     "metadata": {},
     "output_type": "execute_result"
    }
   ],
   "source": [
    "new_column_names = [\n",
    "    \"Country\", \"Region\", \"Population\", \"Area\", \"Pop_density\", \"Coastline_ratio\",\n",
    "    \"Net_migration\", \"Infant_mortality\", \"GDP\", \"Literacy\", \"Phones_per_1000\",\n",
    "    \"Arable\", \"Crops\", \"Other\", \"Climate\", \"Birthrate\", \"Deathrate\", \"Agriculture\",\n",
    "    \"Industry\", \"Service\"\n",
    "]\n",
    "\n",
    "countries.columns = new_column_names\n",
    "\n",
    "countries.head(5)"
   ]
  },
  {
   "cell_type": "markdown",
   "metadata": {},
   "source": [
    "## Observações\n",
    "\n",
    "Esse _data set_ ainda precisa de alguns ajustes iniciais. Primeiro, note que as variáveis numéricas estão usando vírgula como separador decimal e estão codificadas como strings. Corrija isso antes de continuar: transforme essas variáveis em numéricas adequadamente.\n",
    "\n",
    "Além disso, as variáveis `Country` e `Region` possuem espaços a mais no começo e no final da string. Você pode utilizar o método `str.strip()` para remover esses espaços."
   ]
  },
  {
   "cell_type": "markdown",
   "metadata": {},
   "source": [
    "## Inicia sua análise a partir daqui"
   ]
  },
  {
   "cell_type": "code",
   "execution_count": 5,
   "metadata": {},
   "outputs": [
    {
     "name": "stdout",
     "output_type": "stream",
     "text": [
      "<class 'pandas.core.frame.DataFrame'>\n",
      "RangeIndex: 227 entries, 0 to 226\n",
      "Data columns (total 20 columns):\n",
      " #   Column            Non-Null Count  Dtype  \n",
      "---  ------            --------------  -----  \n",
      " 0   Country           227 non-null    object \n",
      " 1   Region            227 non-null    object \n",
      " 2   Population        227 non-null    int64  \n",
      " 3   Area              227 non-null    int64  \n",
      " 4   Pop_density       227 non-null    object \n",
      " 5   Coastline_ratio   227 non-null    object \n",
      " 6   Net_migration     224 non-null    object \n",
      " 7   Infant_mortality  224 non-null    object \n",
      " 8   GDP               226 non-null    float64\n",
      " 9   Literacy          209 non-null    object \n",
      " 10  Phones_per_1000   223 non-null    object \n",
      " 11  Arable            225 non-null    object \n",
      " 12  Crops             225 non-null    object \n",
      " 13  Other             225 non-null    object \n",
      " 14  Climate           205 non-null    object \n",
      " 15  Birthrate         224 non-null    object \n",
      " 16  Deathrate         223 non-null    object \n",
      " 17  Agriculture       212 non-null    object \n",
      " 18  Industry          211 non-null    object \n",
      " 19  Service           212 non-null    object \n",
      "dtypes: float64(1), int64(2), object(17)\n",
      "memory usage: 35.6+ KB\n"
     ]
    }
   ],
   "source": [
    "# Conhecendo os dados\n",
    "countries.info()"
   ]
  },
  {
   "cell_type": "code",
   "execution_count": 6,
   "metadata": {},
   "outputs": [
    {
     "data": {
      "text/plain": [
       "Country              0\n",
       "Region               0\n",
       "Population           0\n",
       "Area                 0\n",
       "Pop_density          0\n",
       "Coastline_ratio      0\n",
       "Net_migration        3\n",
       "Infant_mortality     3\n",
       "GDP                  1\n",
       "Literacy            18\n",
       "Phones_per_1000      4\n",
       "Arable               2\n",
       "Crops                2\n",
       "Other                2\n",
       "Climate             22\n",
       "Birthrate            3\n",
       "Deathrate            4\n",
       "Agriculture         15\n",
       "Industry            16\n",
       "Service             15\n",
       "dtype: int64"
      ]
     },
     "execution_count": 6,
     "metadata": {},
     "output_type": "execute_result"
    }
   ],
   "source": [
    "# Valores NaN\n",
    "countries.isna().sum()"
   ]
  },
  {
   "cell_type": "code",
   "execution_count": 7,
   "metadata": {},
   "outputs": [],
   "source": [
    "# Colunas númericas que estão como object\n",
    "colunas_obj = [\"Pop_density\", \"Coastline_ratio\",\n",
    "    \"Net_migration\", \"Infant_mortality\", \"Literacy\", \"Phones_per_1000\",\n",
    "    \"Arable\", \"Crops\", \"Other\", \"Climate\", \"Birthrate\", \"Deathrate\", \"Agriculture\",\n",
    "    \"Industry\", \"Service\"]"
   ]
  },
  {
   "cell_type": "code",
   "execution_count": 8,
   "metadata": {},
   "outputs": [],
   "source": [
    "# Ajustando os dados\n",
    "countries[colunas_obj] = countries[colunas_obj].replace(to_replace=',', value='.', regex=True).astype(float)\n",
    "\n",
    "countries['Country'] = countries['Country'].str.strip()\n",
    "countries['Region'] = countries['Region'].str.strip()"
   ]
  },
  {
   "cell_type": "code",
   "execution_count": 9,
   "metadata": {},
   "outputs": [
    {
     "data": {
      "text/html": [
       "<div>\n",
       "<style scoped>\n",
       "    .dataframe tbody tr th:only-of-type {\n",
       "        vertical-align: middle;\n",
       "    }\n",
       "\n",
       "    .dataframe tbody tr th {\n",
       "        vertical-align: top;\n",
       "    }\n",
       "\n",
       "    .dataframe thead th {\n",
       "        text-align: right;\n",
       "    }\n",
       "</style>\n",
       "<table border=\"1\" class=\"dataframe\">\n",
       "  <thead>\n",
       "    <tr style=\"text-align: right;\">\n",
       "      <th></th>\n",
       "      <th>Country</th>\n",
       "      <th>Region</th>\n",
       "      <th>Population</th>\n",
       "      <th>Area</th>\n",
       "      <th>Pop_density</th>\n",
       "      <th>Coastline_ratio</th>\n",
       "      <th>Net_migration</th>\n",
       "      <th>Infant_mortality</th>\n",
       "      <th>GDP</th>\n",
       "      <th>Literacy</th>\n",
       "      <th>Phones_per_1000</th>\n",
       "      <th>Arable</th>\n",
       "      <th>Crops</th>\n",
       "      <th>Other</th>\n",
       "      <th>Climate</th>\n",
       "      <th>Birthrate</th>\n",
       "      <th>Deathrate</th>\n",
       "      <th>Agriculture</th>\n",
       "      <th>Industry</th>\n",
       "      <th>Service</th>\n",
       "    </tr>\n",
       "  </thead>\n",
       "  <tbody>\n",
       "    <tr>\n",
       "      <th>0</th>\n",
       "      <td>Afghanistan</td>\n",
       "      <td>ASIA (EX. NEAR EAST)</td>\n",
       "      <td>31056997</td>\n",
       "      <td>647500</td>\n",
       "      <td>48.0</td>\n",
       "      <td>0.00</td>\n",
       "      <td>23.06</td>\n",
       "      <td>163.07</td>\n",
       "      <td>700.0</td>\n",
       "      <td>36.0</td>\n",
       "      <td>3.2</td>\n",
       "      <td>12.13</td>\n",
       "      <td>0.22</td>\n",
       "      <td>87.65</td>\n",
       "      <td>1.0</td>\n",
       "      <td>46.60</td>\n",
       "      <td>20.34</td>\n",
       "      <td>0.380</td>\n",
       "      <td>0.240</td>\n",
       "      <td>0.380</td>\n",
       "    </tr>\n",
       "    <tr>\n",
       "      <th>1</th>\n",
       "      <td>Albania</td>\n",
       "      <td>EASTERN EUROPE</td>\n",
       "      <td>3581655</td>\n",
       "      <td>28748</td>\n",
       "      <td>124.6</td>\n",
       "      <td>1.26</td>\n",
       "      <td>-4.93</td>\n",
       "      <td>21.52</td>\n",
       "      <td>4500.0</td>\n",
       "      <td>86.5</td>\n",
       "      <td>71.2</td>\n",
       "      <td>21.09</td>\n",
       "      <td>4.42</td>\n",
       "      <td>74.49</td>\n",
       "      <td>3.0</td>\n",
       "      <td>15.11</td>\n",
       "      <td>5.22</td>\n",
       "      <td>0.232</td>\n",
       "      <td>0.188</td>\n",
       "      <td>0.579</td>\n",
       "    </tr>\n",
       "    <tr>\n",
       "      <th>2</th>\n",
       "      <td>Algeria</td>\n",
       "      <td>NORTHERN AFRICA</td>\n",
       "      <td>32930091</td>\n",
       "      <td>2381740</td>\n",
       "      <td>13.8</td>\n",
       "      <td>0.04</td>\n",
       "      <td>-0.39</td>\n",
       "      <td>31.00</td>\n",
       "      <td>6000.0</td>\n",
       "      <td>70.0</td>\n",
       "      <td>78.1</td>\n",
       "      <td>3.22</td>\n",
       "      <td>0.25</td>\n",
       "      <td>96.53</td>\n",
       "      <td>1.0</td>\n",
       "      <td>17.14</td>\n",
       "      <td>4.61</td>\n",
       "      <td>0.101</td>\n",
       "      <td>0.600</td>\n",
       "      <td>0.298</td>\n",
       "    </tr>\n",
       "    <tr>\n",
       "      <th>3</th>\n",
       "      <td>American Samoa</td>\n",
       "      <td>OCEANIA</td>\n",
       "      <td>57794</td>\n",
       "      <td>199</td>\n",
       "      <td>290.4</td>\n",
       "      <td>58.29</td>\n",
       "      <td>-20.71</td>\n",
       "      <td>9.27</td>\n",
       "      <td>8000.0</td>\n",
       "      <td>97.0</td>\n",
       "      <td>259.5</td>\n",
       "      <td>10.00</td>\n",
       "      <td>15.00</td>\n",
       "      <td>75.00</td>\n",
       "      <td>2.0</td>\n",
       "      <td>22.46</td>\n",
       "      <td>3.27</td>\n",
       "      <td>NaN</td>\n",
       "      <td>NaN</td>\n",
       "      <td>NaN</td>\n",
       "    </tr>\n",
       "    <tr>\n",
       "      <th>4</th>\n",
       "      <td>Andorra</td>\n",
       "      <td>WESTERN EUROPE</td>\n",
       "      <td>71201</td>\n",
       "      <td>468</td>\n",
       "      <td>152.1</td>\n",
       "      <td>0.00</td>\n",
       "      <td>6.60</td>\n",
       "      <td>4.05</td>\n",
       "      <td>19000.0</td>\n",
       "      <td>100.0</td>\n",
       "      <td>497.2</td>\n",
       "      <td>2.22</td>\n",
       "      <td>0.00</td>\n",
       "      <td>97.78</td>\n",
       "      <td>3.0</td>\n",
       "      <td>8.71</td>\n",
       "      <td>6.25</td>\n",
       "      <td>NaN</td>\n",
       "      <td>NaN</td>\n",
       "      <td>NaN</td>\n",
       "    </tr>\n",
       "  </tbody>\n",
       "</table>\n",
       "</div>"
      ],
      "text/plain": [
       "          Country                Region  Population     Area  Pop_density  \\\n",
       "0     Afghanistan  ASIA (EX. NEAR EAST)    31056997   647500         48.0   \n",
       "1         Albania        EASTERN EUROPE     3581655    28748        124.6   \n",
       "2         Algeria       NORTHERN AFRICA    32930091  2381740         13.8   \n",
       "3  American Samoa               OCEANIA       57794      199        290.4   \n",
       "4         Andorra        WESTERN EUROPE       71201      468        152.1   \n",
       "\n",
       "   Coastline_ratio  Net_migration  Infant_mortality      GDP  Literacy  \\\n",
       "0             0.00          23.06            163.07    700.0      36.0   \n",
       "1             1.26          -4.93             21.52   4500.0      86.5   \n",
       "2             0.04          -0.39             31.00   6000.0      70.0   \n",
       "3            58.29         -20.71              9.27   8000.0      97.0   \n",
       "4             0.00           6.60              4.05  19000.0     100.0   \n",
       "\n",
       "   Phones_per_1000  Arable  Crops  Other  Climate  Birthrate  Deathrate  \\\n",
       "0              3.2   12.13   0.22  87.65      1.0      46.60      20.34   \n",
       "1             71.2   21.09   4.42  74.49      3.0      15.11       5.22   \n",
       "2             78.1    3.22   0.25  96.53      1.0      17.14       4.61   \n",
       "3            259.5   10.00  15.00  75.00      2.0      22.46       3.27   \n",
       "4            497.2    2.22   0.00  97.78      3.0       8.71       6.25   \n",
       "\n",
       "   Agriculture  Industry  Service  \n",
       "0        0.380     0.240    0.380  \n",
       "1        0.232     0.188    0.579  \n",
       "2        0.101     0.600    0.298  \n",
       "3          NaN       NaN      NaN  \n",
       "4          NaN       NaN      NaN  "
      ]
     },
     "execution_count": 9,
     "metadata": {},
     "output_type": "execute_result"
    }
   ],
   "source": [
    "countries.head()"
   ]
  },
  {
   "cell_type": "markdown",
   "metadata": {},
   "source": [
    "## Questão 1\n",
    "\n",
    "Quais são as regiões (variável `Region`) presentes no _data set_? Retorne uma lista com as regiões únicas do _data set_ com os espaços à frente e atrás da string removidos (mas mantenha pontuação: ponto, hífen etc) e ordenadas em ordem alfabética."
   ]
  },
  {
   "cell_type": "code",
   "execution_count": 10,
   "metadata": {},
   "outputs": [
    {
     "data": {
      "text/plain": [
       "['ASIA (EX. NEAR EAST)',\n",
       " 'BALTICS',\n",
       " 'C.W. OF IND. STATES',\n",
       " 'EASTERN EUROPE',\n",
       " 'LATIN AMER. & CARIB',\n",
       " 'NEAR EAST',\n",
       " 'NORTHERN AFRICA',\n",
       " 'NORTHERN AMERICA',\n",
       " 'OCEANIA',\n",
       " 'SUB-SAHARAN AFRICA',\n",
       " 'WESTERN EUROPE']"
      ]
     },
     "execution_count": 10,
     "metadata": {},
     "output_type": "execute_result"
    }
   ],
   "source": [
    "resposta_1 = list(countries['Region'].sort_values(ascending=True).unique())\n",
    "resposta_1"
   ]
  },
  {
   "cell_type": "code",
   "execution_count": 11,
   "metadata": {},
   "outputs": [],
   "source": [
    "def q1():\n",
    "    return resposta_1"
   ]
  },
  {
   "cell_type": "markdown",
   "metadata": {},
   "source": [
    "## Questão 2\n",
    "\n",
    "Discretizando a variável `Pop_density` em 10 intervalos com `KBinsDiscretizer`, seguindo o encode `ordinal` e estratégia `quantile`, quantos países se encontram acima do 90º percentil? Responda como um único escalar inteiro."
   ]
  },
  {
   "cell_type": "code",
   "execution_count": 12,
   "metadata": {},
   "outputs": [],
   "source": [
    "discret = KBinsDiscretizer(n_bins=10, encode='ordinal', strategy='quantile')"
   ]
  },
  {
   "cell_type": "code",
   "execution_count": 13,
   "metadata": {},
   "outputs": [
    {
     "name": "stdout",
     "output_type": "stream",
     "text": [
      "[[3.]\n",
      " [6.]\n",
      " [1.]\n",
      " [8.]\n",
      " [7.]]    [array([0.00000e+00, 1.01400e+01, 2.12200e+01, 3.94800e+01, 5.98000e+01,\n",
      "       7.88000e+01, 1.05540e+02, 1.50120e+02, 2.53700e+02, 3.96740e+02,\n",
      "       1.62715e+04])]\n"
     ]
    }
   ],
   "source": [
    "disc_pop = discret.fit_transform(countries[['Pop_density']])\n",
    "print(disc_pop[:5],'  ', discret.bin_edges_)"
   ]
  },
  {
   "cell_type": "code",
   "execution_count": 14,
   "metadata": {},
   "outputs": [
    {
     "data": {
      "text/plain": [
       "23"
      ]
     },
     "execution_count": 14,
     "metadata": {},
     "output_type": "execute_result"
    }
   ],
   "source": [
    "resposta_2 = len(disc_pop[disc_pop > np.quantile(disc_pop, 0.9)])\n",
    "resposta_2"
   ]
  },
  {
   "cell_type": "code",
   "execution_count": 15,
   "metadata": {},
   "outputs": [
    {
     "data": {
      "text/plain": [
       "23"
      ]
     },
     "execution_count": 15,
     "metadata": {},
     "output_type": "execute_result"
    }
   ],
   "source": [
    "# Outra alternativa de fazer\n",
    "len(disc_pop[disc_pop > (disc_pop[10])])"
   ]
  },
  {
   "cell_type": "code",
   "execution_count": 16,
   "metadata": {},
   "outputs": [],
   "source": [
    "def q2():\n",
    "    return resposta_2"
   ]
  },
  {
   "cell_type": "markdown",
   "metadata": {},
   "source": [
    "# Questão 3\n",
    "\n",
    "Se codificarmos as variáveis `Region` e `Climate` usando _one-hot encoding_, quantos novos atributos seriam criados? Responda como um único escalar."
   ]
  },
  {
   "cell_type": "code",
   "execution_count": 17,
   "metadata": {},
   "outputs": [],
   "source": [
    "# Valores missing\n",
    "\n",
    "countries['Climate'] = countries['Climate'].fillna(countries['Climate'].mean())"
   ]
  },
  {
   "cell_type": "code",
   "execution_count": 18,
   "metadata": {},
   "outputs": [
    {
     "data": {
      "text/plain": [
       "18"
      ]
     },
     "execution_count": 18,
     "metadata": {},
     "output_type": "execute_result"
    }
   ],
   "source": [
    "resposta_3 = len(pd.get_dummies(countries['Region']).columns) + len(pd.get_dummies(countries['Climate']).columns)\n",
    "resposta_3"
   ]
  },
  {
   "cell_type": "code",
   "execution_count": 19,
   "metadata": {},
   "outputs": [
    {
     "data": {
      "text/plain": [
       "18"
      ]
     },
     "execution_count": 19,
     "metadata": {},
     "output_type": "execute_result"
    }
   ],
   "source": [
    "# Outra alternativa \n",
    "(countries['Region'].nunique() + countries['Climate'].nunique()) "
   ]
  },
  {
   "cell_type": "code",
   "execution_count": 20,
   "metadata": {},
   "outputs": [],
   "source": [
    "def q3():\n",
    "    return resposta_3"
   ]
  },
  {
   "cell_type": "markdown",
   "metadata": {},
   "source": [
    "## Questão 4\n",
    "\n",
    "Aplique o seguinte _pipeline_:\n",
    "\n",
    "1. Preencha as variáveis do tipo `int64` e `float64` com suas respectivas medianas.\n",
    "2. Padronize essas variáveis.\n",
    "\n",
    "Após aplicado o _pipeline_ descrito acima aos dados (somente nas variáveis dos tipos especificados), aplique o mesmo _pipeline_ (ou `ColumnTransformer`) ao dado abaixo. Qual o valor da variável `Arable` após o _pipeline_? Responda como um único float arredondado para três casas decimais."
   ]
  },
  {
   "cell_type": "code",
   "execution_count": 21,
   "metadata": {},
   "outputs": [
    {
     "data": {
      "text/plain": [
       "Pipeline(memory=None,\n",
       "         steps=[('Imputer',\n",
       "                 SimpleImputer(add_indicator=False, copy=True, fill_value=None,\n",
       "                               missing_values=nan, strategy='median',\n",
       "                               verbose=0)),\n",
       "                ('Padronizacao',\n",
       "                 StandardScaler(copy=True, with_mean=True, with_std=True))],\n",
       "         verbose=False)"
      ]
     },
     "execution_count": 21,
     "metadata": {},
     "output_type": "execute_result"
    }
   ],
   "source": [
    "algoritmos = []\n",
    "\n",
    "# Modelo SimpleImputer\n",
    "algoritmos.append(('Imputer', SimpleImputer(strategy='median')))\n",
    "\n",
    "# Modelo StandardScaler\n",
    "algoritmos.append(('Padronizacao', StandardScaler()))\n",
    "\n",
    "# Criando o Pipeline\n",
    "pipe = Pipeline(algoritmos)\n",
    "pipe"
   ]
  },
  {
   "cell_type": "code",
   "execution_count": 22,
   "metadata": {},
   "outputs": [
    {
     "data": {
      "text/plain": [
       "Country              object\n",
       "Region               object\n",
       "Population            int64\n",
       "Area                  int64\n",
       "Pop_density         float64\n",
       "Coastline_ratio     float64\n",
       "Net_migration       float64\n",
       "Infant_mortality    float64\n",
       "GDP                 float64\n",
       "Literacy            float64\n",
       "Phones_per_1000     float64\n",
       "Arable              float64\n",
       "Crops               float64\n",
       "Other               float64\n",
       "Climate             float64\n",
       "Birthrate           float64\n",
       "Deathrate           float64\n",
       "Agriculture         float64\n",
       "Industry            float64\n",
       "Service             float64\n",
       "dtype: object"
      ]
     },
     "execution_count": 22,
     "metadata": {},
     "output_type": "execute_result"
    }
   ],
   "source": [
    "countries.dtypes"
   ]
  },
  {
   "cell_type": "code",
   "execution_count": 50,
   "metadata": {},
   "outputs": [
    {
     "data": {
      "text/plain": [
       "array([[ 0.01969468,  0.02758332, -0.19984434, -0.29344342,  4.75079803,\n",
       "         3.6380982 , -0.89639423, -2.49781686, -1.02749132, -0.12636082,\n",
       "        -0.51886111,  0.37260169, -1.71793694,  2.21296666,  2.2525074 ,\n",
       "         1.63657562, -0.31540576, -1.1611354 ],\n",
       "       [-0.21387688, -0.31879748, -0.15360296, -0.27597435, -1.02509671,\n",
       "        -0.39284992, -0.51671798,  0.15193269, -0.72607882,  0.56511516,\n",
       "        -0.01360389, -0.44793341,  1.29856903, -0.62798617, -0.8093326 ,\n",
       "         0.59516349, -0.70631815,  0.08342432]])"
      ]
     },
     "execution_count": 50,
     "metadata": {},
     "output_type": "execute_result"
    }
   ],
   "source": [
    "# Colunas float e int\n",
    "coluna_continua = countries.columns[2:len(countries.columns)]\n",
    "# Aplicando o pipeline\n",
    "pipe.fit(countries[coluna_continua])\n",
    "\n",
    "pipe_transf = pipe.transform(countries[coluna_continua])\n",
    "\n",
    "pipe_transf[:2]"
   ]
  },
  {
   "cell_type": "code",
   "execution_count": 51,
   "metadata": {},
   "outputs": [
    {
     "data": {
      "text/html": [
       "<div>\n",
       "<style scoped>\n",
       "    .dataframe tbody tr th:only-of-type {\n",
       "        vertical-align: middle;\n",
       "    }\n",
       "\n",
       "    .dataframe tbody tr th {\n",
       "        vertical-align: top;\n",
       "    }\n",
       "\n",
       "    .dataframe thead th {\n",
       "        text-align: right;\n",
       "    }\n",
       "</style>\n",
       "<table border=\"1\" class=\"dataframe\">\n",
       "  <thead>\n",
       "    <tr style=\"text-align: right;\">\n",
       "      <th></th>\n",
       "      <th>Population</th>\n",
       "      <th>Area</th>\n",
       "      <th>Pop_density</th>\n",
       "      <th>Coastline_ratio</th>\n",
       "      <th>Net_migration</th>\n",
       "      <th>Infant_mortality</th>\n",
       "      <th>GDP</th>\n",
       "      <th>Literacy</th>\n",
       "      <th>Phones_per_1000</th>\n",
       "      <th>Arable</th>\n",
       "      <th>Crops</th>\n",
       "      <th>Other</th>\n",
       "      <th>Climate</th>\n",
       "      <th>Birthrate</th>\n",
       "      <th>Deathrate</th>\n",
       "      <th>Agriculture</th>\n",
       "      <th>Industry</th>\n",
       "      <th>Service</th>\n",
       "    </tr>\n",
       "  </thead>\n",
       "  <tbody>\n",
       "    <tr>\n",
       "      <th>0</th>\n",
       "      <td>0.019695</td>\n",
       "      <td>0.027583</td>\n",
       "      <td>-0.199844</td>\n",
       "      <td>-0.293443</td>\n",
       "      <td>4.750798</td>\n",
       "      <td>3.638098</td>\n",
       "      <td>-0.896394</td>\n",
       "      <td>-2.497817</td>\n",
       "      <td>-1.027491</td>\n",
       "      <td>-0.126361</td>\n",
       "      <td>-0.518861</td>\n",
       "      <td>0.372602</td>\n",
       "      <td>-1.717937</td>\n",
       "      <td>2.212967</td>\n",
       "      <td>2.252507</td>\n",
       "      <td>1.636576</td>\n",
       "      <td>-0.315406</td>\n",
       "      <td>-1.161135</td>\n",
       "    </tr>\n",
       "    <tr>\n",
       "      <th>1</th>\n",
       "      <td>-0.213877</td>\n",
       "      <td>-0.318797</td>\n",
       "      <td>-0.153603</td>\n",
       "      <td>-0.275974</td>\n",
       "      <td>-1.025097</td>\n",
       "      <td>-0.392850</td>\n",
       "      <td>-0.516718</td>\n",
       "      <td>0.151933</td>\n",
       "      <td>-0.726079</td>\n",
       "      <td>0.565115</td>\n",
       "      <td>-0.013604</td>\n",
       "      <td>-0.447933</td>\n",
       "      <td>1.298569</td>\n",
       "      <td>-0.627986</td>\n",
       "      <td>-0.809333</td>\n",
       "      <td>0.595163</td>\n",
       "      <td>-0.706318</td>\n",
       "      <td>0.083424</td>\n",
       "    </tr>\n",
       "    <tr>\n",
       "      <th>2</th>\n",
       "      <td>0.035618</td>\n",
       "      <td>0.998421</td>\n",
       "      <td>-0.220490</td>\n",
       "      <td>-0.292889</td>\n",
       "      <td>-0.088242</td>\n",
       "      <td>-0.122886</td>\n",
       "      <td>-0.366846</td>\n",
       "      <td>-0.713827</td>\n",
       "      <td>-0.695494</td>\n",
       "      <td>-0.813978</td>\n",
       "      <td>-0.515252</td>\n",
       "      <td>0.926276</td>\n",
       "      <td>-1.717937</td>\n",
       "      <td>-0.444844</td>\n",
       "      <td>-0.932859</td>\n",
       "      <td>-0.326627</td>\n",
       "      <td>2.390911</td>\n",
       "      <td>-1.673969</td>\n",
       "    </tr>\n",
       "    <tr>\n",
       "      <th>3</th>\n",
       "      <td>-0.243834</td>\n",
       "      <td>-0.334779</td>\n",
       "      <td>-0.053514</td>\n",
       "      <td>0.514709</td>\n",
       "      <td>-4.281389</td>\n",
       "      <td>-0.741696</td>\n",
       "      <td>-0.167016</td>\n",
       "      <td>0.702871</td>\n",
       "      <td>0.108568</td>\n",
       "      <td>-0.290741</td>\n",
       "      <td>1.259163</td>\n",
       "      <td>-0.416135</td>\n",
       "      <td>-0.209684</td>\n",
       "      <td>0.035113</td>\n",
       "      <td>-1.204213</td>\n",
       "      <td>-0.340700</td>\n",
       "      <td>-0.074844</td>\n",
       "      <td>0.033392</td>\n",
       "    </tr>\n",
       "    <tr>\n",
       "      <th>4</th>\n",
       "      <td>-0.243720</td>\n",
       "      <td>-0.334629</td>\n",
       "      <td>-0.137002</td>\n",
       "      <td>-0.293443</td>\n",
       "      <td>1.354184</td>\n",
       "      <td>-0.890347</td>\n",
       "      <td>0.932047</td>\n",
       "      <td>0.860282</td>\n",
       "      <td>1.162182</td>\n",
       "      <td>-0.891152</td>\n",
       "      <td>-0.545327</td>\n",
       "      <td>1.004214</td>\n",
       "      <td>1.298569</td>\n",
       "      <td>-1.205379</td>\n",
       "      <td>-0.600755</td>\n",
       "      <td>-0.340700</td>\n",
       "      <td>-0.074844</td>\n",
       "      <td>0.033392</td>\n",
       "    </tr>\n",
       "    <tr>\n",
       "      <th>5</th>\n",
       "      <td>-0.141231</td>\n",
       "      <td>0.363019</td>\n",
       "      <td>-0.222965</td>\n",
       "      <td>-0.291641</td>\n",
       "      <td>-0.007763</td>\n",
       "      <td>4.438877</td>\n",
       "      <td>-0.776496</td>\n",
       "      <td>-2.182995</td>\n",
       "      <td>-1.007102</td>\n",
       "      <td>-0.876489</td>\n",
       "      <td>-0.516455</td>\n",
       "      <td>0.977403</td>\n",
       "      <td>0.000000</td>\n",
       "      <td>2.078542</td>\n",
       "      <td>3.034168</td>\n",
       "      <td>-0.361810</td>\n",
       "      <td>2.826928</td>\n",
       "      <td>-1.999181</td>\n",
       "    </tr>\n",
       "    <tr>\n",
       "      <th>6</th>\n",
       "      <td>-0.244210</td>\n",
       "      <td>-0.334834</td>\n",
       "      <td>-0.149075</td>\n",
       "      <td>0.535644</td>\n",
       "      <td>2.212623</td>\n",
       "      <td>-0.406804</td>\n",
       "      <td>-0.107067</td>\n",
       "      <td>0.597930</td>\n",
       "      <td>0.997291</td>\n",
       "      <td>-1.062477</td>\n",
       "      <td>-0.545327</td>\n",
       "      <td>1.142633</td>\n",
       "      <td>-0.209684</td>\n",
       "      <td>-0.712791</td>\n",
       "      <td>-0.785032</td>\n",
       "      <td>-0.755858</td>\n",
       "      <td>-0.766459</td>\n",
       "      <td>1.340492</td>\n",
       "    </tr>\n",
       "    <tr>\n",
       "      <th>7</th>\n",
       "      <td>-0.243738</td>\n",
       "      <td>-0.334643</td>\n",
       "      <td>-0.134648</td>\n",
       "      <td>0.185431</td>\n",
       "      <td>-1.276851</td>\n",
       "      <td>-0.451513</td>\n",
       "      <td>0.132728</td>\n",
       "      <td>0.283108</td>\n",
       "      <td>1.395777</td>\n",
       "      <td>0.340540</td>\n",
       "      <td>0.002035</td>\n",
       "      <td>-0.274598</td>\n",
       "      <td>-0.209684</td>\n",
       "      <td>-0.463790</td>\n",
       "      <td>-0.778957</td>\n",
       "      <td>-0.769931</td>\n",
       "      <td>-0.465757</td>\n",
       "      <td>1.109092</td>\n",
       "    </tr>\n",
       "    <tr>\n",
       "      <th>8</th>\n",
       "      <td>0.095056</td>\n",
       "      <td>1.214030</td>\n",
       "      <td>-0.220128</td>\n",
       "      <td>-0.290948</td>\n",
       "      <td>0.118114</td>\n",
       "      <td>-0.573395</td>\n",
       "      <td>0.152711</td>\n",
       "      <td>0.708118</td>\n",
       "      <td>-0.064744</td>\n",
       "      <td>-0.112470</td>\n",
       "      <td>-0.487583</td>\n",
       "      <td>0.345167</td>\n",
       "      <td>1.298569</td>\n",
       "      <td>-0.481834</td>\n",
       "      <td>-0.337501</td>\n",
       "      <td>-0.368846</td>\n",
       "      <td>0.571665</td>\n",
       "      <td>-0.116706</td>\n",
       "    </tr>\n",
       "    <tr>\n",
       "      <th>9</th>\n",
       "      <td>-0.219022</td>\n",
       "      <td>-0.318209</td>\n",
       "      <td>-0.168514</td>\n",
       "      <td>-0.293443</td>\n",
       "      <td>-1.342884</td>\n",
       "      <td>-0.342730</td>\n",
       "      <td>-0.616633</td>\n",
       "      <td>0.786823</td>\n",
       "      <td>-0.174228</td>\n",
       "      <td>0.291920</td>\n",
       "      <td>-0.268638</td>\n",
       "      <td>-0.095028</td>\n",
       "      <td>2.806822</td>\n",
       "      <td>-0.902248</td>\n",
       "      <td>-0.199800</td>\n",
       "      <td>0.644419</td>\n",
       "      <td>0.458901</td>\n",
       "      <td>-0.923481</td>\n",
       "    </tr>\n",
       "  </tbody>\n",
       "</table>\n",
       "</div>"
      ],
      "text/plain": [
       "   Population      Area  Pop_density  Coastline_ratio  Net_migration  \\\n",
       "0    0.019695  0.027583    -0.199844        -0.293443       4.750798   \n",
       "1   -0.213877 -0.318797    -0.153603        -0.275974      -1.025097   \n",
       "2    0.035618  0.998421    -0.220490        -0.292889      -0.088242   \n",
       "3   -0.243834 -0.334779    -0.053514         0.514709      -4.281389   \n",
       "4   -0.243720 -0.334629    -0.137002        -0.293443       1.354184   \n",
       "5   -0.141231  0.363019    -0.222965        -0.291641      -0.007763   \n",
       "6   -0.244210 -0.334834    -0.149075         0.535644       2.212623   \n",
       "7   -0.243738 -0.334643    -0.134648         0.185431      -1.276851   \n",
       "8    0.095056  1.214030    -0.220128        -0.290948       0.118114   \n",
       "9   -0.219022 -0.318209    -0.168514        -0.293443      -1.342884   \n",
       "\n",
       "   Infant_mortality       GDP  Literacy  Phones_per_1000    Arable     Crops  \\\n",
       "0          3.638098 -0.896394 -2.497817        -1.027491 -0.126361 -0.518861   \n",
       "1         -0.392850 -0.516718  0.151933        -0.726079  0.565115 -0.013604   \n",
       "2         -0.122886 -0.366846 -0.713827        -0.695494 -0.813978 -0.515252   \n",
       "3         -0.741696 -0.167016  0.702871         0.108568 -0.290741  1.259163   \n",
       "4         -0.890347  0.932047  0.860282         1.162182 -0.891152 -0.545327   \n",
       "5          4.438877 -0.776496 -2.182995        -1.007102 -0.876489 -0.516455   \n",
       "6         -0.406804 -0.107067  0.597930         0.997291 -1.062477 -0.545327   \n",
       "7         -0.451513  0.132728  0.283108         1.395777  0.340540  0.002035   \n",
       "8         -0.573395  0.152711  0.708118        -0.064744 -0.112470 -0.487583   \n",
       "9         -0.342730 -0.616633  0.786823        -0.174228  0.291920 -0.268638   \n",
       "\n",
       "      Other   Climate  Birthrate  Deathrate  Agriculture  Industry   Service  \n",
       "0  0.372602 -1.717937   2.212967   2.252507     1.636576 -0.315406 -1.161135  \n",
       "1 -0.447933  1.298569  -0.627986  -0.809333     0.595163 -0.706318  0.083424  \n",
       "2  0.926276 -1.717937  -0.444844  -0.932859    -0.326627  2.390911 -1.673969  \n",
       "3 -0.416135 -0.209684   0.035113  -1.204213    -0.340700 -0.074844  0.033392  \n",
       "4  1.004214  1.298569  -1.205379  -0.600755    -0.340700 -0.074844  0.033392  \n",
       "5  0.977403  0.000000   2.078542   3.034168    -0.361810  2.826928 -1.999181  \n",
       "6  1.142633 -0.209684  -0.712791  -0.785032    -0.755858 -0.766459  1.340492  \n",
       "7 -0.274598 -0.209684  -0.463790  -0.778957    -0.769931 -0.465757  1.109092  \n",
       "8  0.345167  1.298569  -0.481834  -0.337501    -0.368846  0.571665 -0.116706  \n",
       "9 -0.095028  2.806822  -0.902248  -0.199800     0.644419  0.458901 -0.923481  "
      ]
     },
     "execution_count": 51,
     "metadata": {},
     "output_type": "execute_result"
    }
   ],
   "source": [
    "novo = pd.DataFrame(pipe_transf, columns= coluna_continua)\n",
    "novo.head(10)"
   ]
  },
  {
   "cell_type": "code",
   "execution_count": 53,
   "metadata": {},
   "outputs": [],
   "source": [
    "test_country = [\n",
    "    'Test Country', 'NEAR EAST', -0.19032480757326514,\n",
    "    -0.3232636124824411, -0.04421734470810142, -0.27528113360605316,\n",
    "    0.13255850810281325, -0.8054845935643491, 1.0119784924248225,\n",
    "    0.6189182532646624, 1.0074863283776458, 0.20239896852403538,\n",
    "    -0.043678728558593366, -0.13929748680369286, 1.3163604645710438,\n",
    "    -0.3699637766938669, -0.6149300604558857, -0.854369594993175,\n",
    "    0.263445277972641, 0.5712416961268142\n",
    "]"
   ]
  },
  {
   "cell_type": "code",
   "execution_count": 61,
   "metadata": {},
   "outputs": [],
   "source": [
    "test_country_pipe = pipe.transform([test_country[2:]])\n",
    "resposta_4 = test_country_pipe[0][9].round(3)"
   ]
  },
  {
   "cell_type": "code",
   "execution_count": 62,
   "metadata": {},
   "outputs": [],
   "source": [
    "def q4():\n",
    "    return float(resposta_4)"
   ]
  },
  {
   "cell_type": "markdown",
   "metadata": {},
   "source": [
    "## Questão 5\n",
    "\n",
    "Descubra o número de _outliers_ da variável `Net_migration` segundo o método do _boxplot_, ou seja, usando a lógica:\n",
    "\n",
    "$$x \\notin [Q1 - 1.5 \\times \\text{IQR}, Q3 + 1.5 \\times \\text{IQR}] \\Rightarrow x \\text{ é outlier}$$\n",
    "\n",
    "que se encontram no grupo inferior e no grupo superior.\n",
    "\n",
    "Você deveria remover da análise as observações consideradas _outliers_ segundo esse método? Responda como uma tupla de três elementos `(outliers_abaixo, outliers_acima, removeria?)` ((int, int, bool))."
   ]
  },
  {
   "cell_type": "code",
   "execution_count": 29,
   "metadata": {},
   "outputs": [
    {
     "data": {
      "text/plain": [
       "<matplotlib.axes._subplots.AxesSubplot at 0x2303c6c61c8>"
      ]
     },
     "execution_count": 29,
     "metadata": {},
     "output_type": "execute_result"
    },
    {
     "data": {
      "image/png": "[encoded data removed]",
      "text/plain": [
       "<Figure size 432x288 with 1 Axes>"
      ]
     },
     "metadata": {
      "needs_background": "light"
     },
     "output_type": "display_data"
    }
   ],
   "source": [
    "sns.boxplot(countries['Net_migration'], orient='vertical')"
   ]
  },
  {
   "cell_type": "code",
   "execution_count": 30,
   "metadata": {},
   "outputs": [],
   "source": [
    "# Interquartil\n",
    "iqt = countries['Net_migration'].quantile(.75) - countries['Net_migration'].quantile(0.25)\n",
    "\n",
    "# Outliers Abaixo\n",
    "outliers_baixo = (countries['Net_migration'] < countries['Net_migration'].quantile(0.25) - 1.5*iqt).sum()\n",
    "\n",
    "#Outliers Acima\n",
    "outliers_alto = (countries['Net_migration'] > countries['Net_migration'].quantile(0.75) + 1.5*iqt).sum()\n"
   ]
  },
  {
   "cell_type": "code",
   "execution_count": 31,
   "metadata": {},
   "outputs": [],
   "source": [
    "def q5():\n",
    "    return int(outliers_baixo), int(outliers_alto), False"
   ]
  },
  {
   "cell_type": "markdown",
   "metadata": {},
   "source": [
    "## Questão 6\n",
    "Para as questões 6 e 7 utilize a biblioteca `fetch_20newsgroups` de datasets de test do `sklearn`\n",
    "\n",
    "Considere carregar as seguintes categorias e o dataset `newsgroups`:\n",
    "\n",
    "```\n",
    "categories = ['sci.electronics', 'comp.graphics', 'rec.motorcycles']\n",
    "newsgroup = fetch_20newsgroups(subset=\"train\", categories=categories, shuffle=True, random_state=42)\n",
    "```\n",
    "\n",
    "\n",
    "Aplique `CountVectorizer` ao _data set_ `newsgroups` e descubra o número de vezes que a palavra _phone_ aparece no corpus. Responda como um único escalar."
   ]
  },
  {
   "cell_type": "code",
   "execution_count": 32,
   "metadata": {},
   "outputs": [],
   "source": [
    "# Colunas\n",
    "categories = ['sci.electronics', 'comp.graphics', 'rec.motorcycles']\n",
    "\n",
    "# Dataset\n",
    "newsgroup = fetch_20newsgroups(subset=\"train\", categories=categories, shuffle=True, random_state=42)"
   ]
  },
  {
   "cell_type": "code",
   "execution_count": 33,
   "metadata": {},
   "outputs": [
    {
     "data": {
      "text/plain": [
       "1773"
      ]
     },
     "execution_count": 33,
     "metadata": {},
     "output_type": "execute_result"
    }
   ],
   "source": [
    "len(newsgroup.data)"
   ]
  },
  {
   "cell_type": "code",
   "execution_count": 34,
   "metadata": {},
   "outputs": [],
   "source": [
    "count_vectorizer = CountVectorizer()\n",
    "\n",
    "data_vectorizer = count_vectorizer.fit_transform(newsgroup.data)"
   ]
  },
  {
   "cell_type": "code",
   "execution_count": 35,
   "metadata": {},
   "outputs": [
    {
     "data": {
      "text/plain": [
       "19211"
      ]
     },
     "execution_count": 35,
     "metadata": {},
     "output_type": "execute_result"
    }
   ],
   "source": [
    "count = count_vectorizer.get_feature_names().index('phone')\n",
    "count"
   ]
  },
  {
   "cell_type": "code",
   "execution_count": 36,
   "metadata": {},
   "outputs": [
    {
     "data": {
      "text/plain": [
       "213"
      ]
     },
     "execution_count": 36,
     "metadata": {},
     "output_type": "execute_result"
    }
   ],
   "source": [
    "resposta_6 = int(data_vectorizer[:, count].sum())\n",
    "resposta_6"
   ]
  },
  {
   "cell_type": "code",
   "execution_count": 37,
   "metadata": {},
   "outputs": [],
   "source": [
    "def q6():\n",
    "    return resposta_6"
   ]
  },
  {
   "cell_type": "markdown",
   "metadata": {},
   "source": [
    "## Questão 7\n",
    "\n",
    "Aplique `TfidfVectorizer` ao _data set_ `newsgroups` e descubra o TF-IDF da palavra _phone_. Responda como um único escalar arredondado para três casas decimais."
   ]
  },
  {
   "cell_type": "code",
   "execution_count": 38,
   "metadata": {},
   "outputs": [],
   "source": [
    "tfidf_vectorizer = TfidfVectorizer()\n",
    "\n",
    "tfidf_vectorizer.fit(newsgroup.data)\n",
    "\n",
    "newsgroups_tfidf_vectorized = tfidf_vectorizer.transform(newsgroup.data)\n",
    "\n",
    "count = tfidf_vectorizer.get_feature_names().index('phone')\n",
    "\n",
    "resposta_7 = float(newsgroups_tfidf_vectorized[:, count].sum().round(3))"
   ]
  },
  {
   "cell_type": "code",
   "execution_count": 39,
   "metadata": {},
   "outputs": [],
   "source": [
    "def q7():\n",
    "    return resposta_7"
   ]
  }
 ],
 "metadata": {
  "kernelspec": {
   "display_name": "Python 3",
   "language": "python",
   "name": "python3"
  },
  "language_info": {
   "codemirror_mode": {
    "name": "ipython",
    "version": 3
   },
   "file_extension": ".py",
   "mimetype": "text/x-python",
   "name": "python",
   "nbconvert_exporter": "python",
   "pygments_lexer": "ipython3",
   "version": "3.7.6"
  }
 },
 "nbformat": 4,
 "nbformat_minor": 2
}
